{
 "cells": [
  {
   "cell_type": "code",
   "execution_count": 27,
   "metadata": {},
   "outputs": [
    {
     "name": "stdout",
     "output_type": "stream",
     "text": [
      "Requirement already satisfied: tqdm in c:\\users\\pmi\\.conda\\envs\\llmapi\\lib\\site-packages (4.66.5)\n",
      "Requirement already satisfied: colorama in c:\\users\\pmi\\.conda\\envs\\llmapi\\lib\\site-packages (from tqdm) (0.4.6)\n"
     ]
    }
   ],
   "source": [
    "#!pip install openai\n",
    "#!pip install pandas\n",
    "#!pip install numpy\n",
    "\n",
    "#!pip install tqdm\n",
    "#openai 라이브러리 버젼확인\n",
    "\n"
   ]
  },
  {
   "cell_type": "code",
   "execution_count": 33,
   "metadata": {},
   "outputs": [],
   "source": [
    "import pandas as pd\n",
    "import random\n",
    "import os\n",
    "from tqdm import tqdm\n",
    "from openai import OpenAI\n",
    "\n",
    "client = OpenAI(\n",
    "    # This is the default and can be omitted\n",
    "    api_key=os.environ.get(\"OPENAI_API_KEY\"),\n",
    ")\n"
   ]
  },
  {
   "cell_type": "code",
   "execution_count": 40,
   "metadata": {},
   "outputs": [
    {
     "name": "stdout",
     "output_type": "stream",
     "text": [
      "The capital of France is Paris.\n"
     ]
    }
   ],
   "source": [
    "# OpenAI API 호출 테스트\n",
    "response = client.chat.completions.create(\n",
    "    model=\"gpt-4o\",\n",
    "    messages=[\n",
    "        {\"role\": \"system\", \"content\": \"You are a helpful assistant.\"},\n",
    "        {\"role\": \"user\", \"content\": \"What is the capital of France?\"}\n",
    "    ],\n",
    "    max_tokens=400,\n",
    "    temperature=0.1\n",
    ")\n",
    "\n",
    "#Answer 출력하기\n",
    "print(response.choices[0].message.content)\n"
   ]
  },
  {
   "cell_type": "code",
   "execution_count": 41,
   "metadata": {},
   "outputs": [],
   "source": [
    "\n",
    "\n",
    "# CSV 파일 불러오기 (Jupyter Notebook에서 사용할 파일 경로로 변경)\n",
    "file_path = 'data.csv'  # 파일 경로를 지정하세요\n",
    "data = pd.read_csv(file_path, encoding='utf-8-sig')  # 한국어 인코딩을 위해 'utf-8' 추가\n",
    "\n",
    "#data = data.sample(n=5, random_state=42)\n"
   ]
  },
  {
   "cell_type": "code",
   "execution_count": 42,
   "metadata": {},
   "outputs": [
    {
     "data": {
      "text/plain": [
       "(10000, 7)"
      ]
     },
     "execution_count": 42,
     "metadata": {},
     "output_type": "execute_result"
    }
   ],
   "source": [
    "data.shape"
   ]
  },
  {
   "cell_type": "code",
   "execution_count": 44,
   "metadata": {},
   "outputs": [
    {
     "data": {
      "text/html": [
       "<div>\n",
       "<style scoped>\n",
       "    .dataframe tbody tr th:only-of-type {\n",
       "        vertical-align: middle;\n",
       "    }\n",
       "\n",
       "    .dataframe tbody tr th {\n",
       "        vertical-align: top;\n",
       "    }\n",
       "\n",
       "    .dataframe thead th {\n",
       "        text-align: right;\n",
       "    }\n",
       "</style>\n",
       "<table border=\"1\" class=\"dataframe\">\n",
       "  <thead>\n",
       "    <tr style=\"text-align: right;\">\n",
       "      <th></th>\n",
       "      <th>ID</th>\n",
       "      <th>Q15</th>\n",
       "      <th>Major Classification</th>\n",
       "      <th>Minor Classification</th>\n",
       "      <th>Positive topics</th>\n",
       "      <th>Negative topics</th>\n",
       "      <th>Unnamed: 6</th>\n",
       "    </tr>\n",
       "  </thead>\n",
       "  <tbody>\n",
       "    <tr>\n",
       "      <th>0</th>\n",
       "      <td>1</td>\n",
       "      <td>별로 특별하지 않다</td>\n",
       "      <td>광고 전반</td>\n",
       "      <td>평범함</td>\n",
       "      <td>NaN</td>\n",
       "      <td>특별하지 않음</td>\n",
       "      <td>NaN</td>\n",
       "    </tr>\n",
       "    <tr>\n",
       "      <th>1</th>\n",
       "      <td>2</td>\n",
       "      <td>밝은 느낌이 드는 광고다</td>\n",
       "      <td>시각적 요소</td>\n",
       "      <td>긍정적 평가</td>\n",
       "      <td>밝은 느낌</td>\n",
       "      <td>NaN</td>\n",
       "      <td>NaN</td>\n",
       "    </tr>\n",
       "    <tr>\n",
       "      <th>2</th>\n",
       "      <td>3</td>\n",
       "      <td>평범</td>\n",
       "      <td>Not enough data</td>\n",
       "      <td>Not enough data</td>\n",
       "      <td>NaN</td>\n",
       "      <td>NaN</td>\n",
       "      <td>NaN</td>\n",
       "    </tr>\n",
       "    <tr>\n",
       "      <th>3</th>\n",
       "      <td>4</td>\n",
       "      <td>모델이 어울린다</td>\n",
       "      <td>모델</td>\n",
       "      <td>호감도 높음</td>\n",
       "      <td>모델|어울림</td>\n",
       "      <td>NaN</td>\n",
       "      <td>NaN</td>\n",
       "    </tr>\n",
       "    <tr>\n",
       "      <th>4</th>\n",
       "      <td>5</td>\n",
       "      <td>모델과 광고 문구</td>\n",
       "      <td>모델</td>\n",
       "      <td>호감도 높음</td>\n",
       "      <td>모델|광고 문구</td>\n",
       "      <td>NaN</td>\n",
       "      <td>NaN</td>\n",
       "    </tr>\n",
       "  </tbody>\n",
       "</table>\n",
       "</div>"
      ],
      "text/plain": [
       "   ID            Q15 Major Classification Minor Classification  \\\n",
       "0   1     별로 특별하지 않다                광고 전반                  평범함   \n",
       "1   2  밝은 느낌이 드는 광고다               시각적 요소               긍정적 평가   \n",
       "2   3             평범      Not enough data      Not enough data   \n",
       "3   4       모델이 어울린다                   모델               호감도 높음   \n",
       "4   5      모델과 광고 문구                   모델               호감도 높음   \n",
       "\n",
       "  Positive topics Negative topics Unnamed: 6  \n",
       "0             NaN         특별하지 않음        NaN  \n",
       "1           밝은 느낌             NaN        NaN  \n",
       "2             NaN             NaN        NaN  \n",
       "3          모델|어울림             NaN        NaN  \n",
       "4        모델|광고 문구             NaN        NaN  "
      ]
     },
     "execution_count": 44,
     "metadata": {},
     "output_type": "execute_result"
    }
   ],
   "source": [
    "data.head()"
   ]
  },
  {
   "cell_type": "code",
   "execution_count": null,
   "metadata": {},
   "outputs": [],
   "source": [
    "\n",
    "# GPT-4 API를 사용하여 품질 점수 및 평가 코멘트를 생성하는 함수\n",
    "def evaluate_quality(row):\n",
    "\n",
    "    #한국어 Token = 약 450개\n",
    "    k_prompt = f\"\"\"다음은 광고에 대한 사용자 피드백입니다. 이 피드백에 대해 라벨링된 데이터를 평가해주세요.\n",
    "    피드백: \"{row['Q15']}\"\n",
    "    대분류 라벨: \"{row['Major Classification']}\"\n",
    "    소분류 라벨: \"{row['Minor Classification']}\"\n",
    "    긍정 토픽: \"{row['Positive topics']}\"\n",
    "    부정 토픽: \"{row['Negative topics']}\"\n",
    "    \n",
    "    1. 출력 항목은 \"품질 점수\", \"품질 평가 설명\" 두 항목만 출력해주세요\n",
    "    2. \"품질 점수\" 1점에서 5점 사이의 라벨링 품질 점수를 제공해주세요 (1점은 매우 나쁨, 5점은 매우 좋음).\n",
    "    3. \"품질 점수\" 출력은 평가 점수(1~5)만 출력해 주세요\n",
    "    4. \"품질 평가 설명\"  품질 점수가 측정된 이유를 설명해주세요\n",
    "    5. \"품질 평가 설명\"은 \"품질점수\"가 1,2,3 점일 때만 이유를 출력해주고 4,5점은 \"-\" 를 출력하세요\n",
    "    6. 출력 시 타이틀은 출력하지 말고 품질점수와 품질평가설명만 출력하세요.\n",
    "    7. \"품질 평가 설명\"은 국문으로 해주세요\n",
    "    \"\"\"\n",
    "    #영문토큰 Token = 약 240\n",
    "    prompt = f\"\"\"\n",
    "     Below is the response data from the ad video evaluation survey, \n",
    "     labelled with the ad factor Major and Minor categories and positive and negative topics. \n",
    "     Please rate the quality of the labelled data.\n",
    "\n",
    "    response data: \"{row['Q15']}\"\n",
    "    Major categories: \"{row['Major Classification']}\"\n",
    "    Minor categories: \"{row['Minor Classification']}\"\n",
    "    positive topics: \"{row['Positive topics']}\"\n",
    "    negative topics: \"{row['Negative topics']}\"\n",
    "    \n",
    "    1. only two output items, \"Quality Score\" and \"Quality Description\" \n",
    "    2. \"Quality Score\" Provide a labelled quality score between 1 and 5 (1 being very poor and 5 being very good) \n",
    "    3. \"Quality Score\" output only the assessment score (1-5) \n",
    "    4. \"Quality Description\" Explain why the quality score was measured \n",
    "    5. \"Quality Descriptions\" only displays the reason when \"Quality Score\" is 1,2,3, and \"-\" for 4,5 \n",
    "    6. \"Quality Descriptions\" should be no more than 20 characters long\n",
    "    7. Do not print the title when printing, only the quality score and quality assessment explanation \n",
    "    8. \"Quality Assessment Explanation\" should be in Korean\n",
    "    \"\"\"\n",
    "    \n",
    "\n",
    "\n",
    "    #print(\"=======================\")\n",
    "    #print(prompt)\n",
    "\n",
    "    \n",
    "    # GPT-4 API 호출 (새로운 API 방식 사용)\n",
    "    response = client.chat.completions.create(\n",
    "        model=\"gpt-4o\",  # \"gpt-4o\"에서 \"gpt-4\"로 수정\n",
    "        messages=[\n",
    "            {\"role\": \"system\", \"content\": \"You are a helpful assistant.\"},\n",
    "            {\"role\": \"user\", \"content\": prompt}\n",
    "        ],\n",
    "        max_tokens=400,\n",
    "        temperature=0.1  # 생성되는 답변의 창의성 수준 (필요에 따라 조정 가능)\n",
    "    )\n",
    "    \n",
    "    # GPT 응답에서 품질 점수 및 코멘트를 추출\n",
    "    gpt_output = response.choices[0].message.content.strip()  # 응답 구조 수정\n",
    "    \n",
    "    # 품질 점수와 코멘트 분리 (점수가 첫 번째, 코멘트는 그 뒤)\n",
    "    lines = gpt_output.split(\"\\n\")\n",
    "    quality_score = lines[0].strip()\n",
    "    quality_comment = \" \".join(lines[1:]).strip() if len(lines) > 1 else \"-\"\n",
    "\n",
    "    # 반환 (품질 점수, 품질 평가 설명)\n",
    "    return quality_score, quality_comment\n",
    "\n",
    "# 데이터 추출 갯수\n",
    "n_samples = 200\n",
    "# 데이터에서 랜덤하게 n_samples개의 샘플을 추출\n",
    "#sampled_data = data.sample(n=n_samples, random_state=42)\n",
    "sampled_data = data.sample(n=n_samples) #랜덤을 고정하지 않음\n",
    "\n",
    "\n",
    "# tqdm을 사용하여 진행율 표시\n",
    "results = []\n",
    "for _, row in tqdm(sampled_data.iterrows(), total=sampled_data.shape[0], desc=\"Evaluating quality\"):\n",
    "    results.append(evaluate_quality(row))\n",
    "\n",
    "# 결과를 DataFrame에 추가\n",
    "sampled_data[['QualityScore', 'QualityScoreComment']] = pd.DataFrame(results, index=sampled_data.index)\n",
    "\n",
    "# 평가 결과를 포함한 데이터를 CSV 파일로 저장 (한글 인코딩 문제 해결)\n",
    "output_file_path = 'labeled_data_with_quality_scores.csv'\n",
    "sampled_data.to_csv(output_file_path, index=False, encoding='utf-8-sig')  # 'utf-8-sig'로 인코딩 \n",
    "\n",
    "\n"
   ]
  },
  {
   "cell_type": "code",
   "execution_count": 39,
   "metadata": {},
   "outputs": [
    {
     "data": {
      "text/plain": [
       "'labeled_data_with_quality_scores.csv'"
      ]
     },
     "execution_count": 39,
     "metadata": {},
     "output_type": "execute_result"
    }
   ],
   "source": [
    "output_file_path"
   ]
  },
  {
   "cell_type": "code",
   "execution_count": null,
   "metadata": {},
   "outputs": [],
   "source": []
  }
 ],
 "metadata": {
  "kernelspec": {
   "display_name": "base",
   "language": "python",
   "name": "python3"
  },
  "language_info": {
   "codemirror_mode": {
    "name": "ipython",
    "version": 3
   },
   "file_extension": ".py",
   "mimetype": "text/x-python",
   "name": "python",
   "nbconvert_exporter": "python",
   "pygments_lexer": "ipython3",
   "version": "3.10.14"
  }
 },
 "nbformat": 4,
 "nbformat_minor": 2
}
